{
 "cells": [
  {
   "cell_type": "code",
   "execution_count": 1,
   "metadata": {},
   "outputs": [],
   "source": [
    "import pandas as pd"
   ]
  },
  {
   "cell_type": "code",
   "execution_count": 2,
   "metadata": {},
   "outputs": [
    {
     "name": "stdout",
     "output_type": "stream",
     "text": [
      "CPU times: user 26.3 s, sys: 379 ms, total: 26.7 s\n",
      "Wall time: 28.6 s\n"
     ]
    }
   ],
   "source": [
    "%time df=pd.read_json('/home/pa1/Documents/Hackathon/Hotstar/train_data.json')"
   ]
  },
  {
   "cell_type": "code",
   "execution_count": 3,
   "metadata": {},
   "outputs": [
    {
     "name": "stdout",
     "output_type": "stream",
     "text": [
      "CPU times: user 62.1 ms, sys: 0 ns, total: 62.1 ms\n",
      "Wall time: 61.7 ms\n"
     ]
    }
   ],
   "source": [
    "% time df_100000=df.T.iloc[:100000,:]"
   ]
  },
  {
   "cell_type": "code",
   "execution_count": 4,
   "metadata": {},
   "outputs": [
    {
     "name": "stdout",
     "output_type": "stream",
     "text": [
      "CPU times: user 65 ms, sys: 23 µs, total: 65 ms\n",
      "Wall time: 63.7 ms\n"
     ]
    }
   ],
   "source": [
    "% time df_1000=df.T.iloc[:1000,:]"
   ]
  },
  {
   "cell_type": "code",
   "execution_count": 5,
   "metadata": {},
   "outputs": [
    {
     "name": "stdout",
     "output_type": "stream",
     "text": [
      "CPU times: user 61.5 ms, sys: 34 µs, total: 61.5 ms\n",
      "Wall time: 60.4 ms\n"
     ]
    }
   ],
   "source": [
    "% time df_20000=df.T.iloc[:20000,:]"
   ]
  },
  {
   "cell_type": "code",
   "execution_count": 6,
   "metadata": {},
   "outputs": [
    {
     "name": "stdout",
     "output_type": "stream",
     "text": [
      "CPU times: user 4 µs, sys: 0 ns, total: 4 µs\n",
      "Wall time: 5.48 µs\n"
     ]
    }
   ],
   "source": [
    "%%time\n",
    "# Function to clean data(need to be given transposed dataframe with train-id as rows & titles,genres,dow... as columns)\n",
    "def clean_data(dataframe,name_of_column='cities'):\n",
    "    dfDict_T=dataframe.to_dict()\n",
    "    \n",
    "    DummyDict={}\n",
    "    for train_id in dfDict_T[name_of_column]:\n",
    "        for element in (dfDict_T[name_of_column][train_id].split(',')):\n",
    "            Name=element.split(':')[0]\n",
    "            Time=element.split(':')[-1]\n",
    "            DummyDict.setdefault(train_id,0)\n",
    "            if type(DummyDict[train_id])!= dict: DummyDict[train_id]=dict()\n",
    "            DummyDict[train_id].setdefault(Name,0)\n",
    "            DummyDict[train_id][Name]=Time\n",
    "    return pd.DataFrame(DummyDict)\n",
    "\n"
   ]
  },
  {
   "cell_type": "code",
   "execution_count": 7,
   "metadata": {},
   "outputs": [
    {
     "name": "stdout",
     "output_type": "stream",
     "text": [
      "CPU times: user 982 ms, sys: 3.94 ms, total: 986 ms\n",
      "Wall time: 984 ms\n"
     ]
    }
   ],
   "source": [
    "%time df_genres=clean_data(df_20000,'genres').T"
   ]
  },
  {
   "cell_type": "code",
   "execution_count": 8,
   "metadata": {},
   "outputs": [
    {
     "name": "stdout",
     "output_type": "stream",
     "text": [
      "CPU times: user 1.72 s, sys: 79.9 ms, total: 1.8 s\n",
      "Wall time: 1.8 s\n"
     ]
    }
   ],
   "source": [
    "%time df_cities=clean_data(df_20000,'cities').T"
   ]
  },
  {
   "cell_type": "code",
   "execution_count": 9,
   "metadata": {
    "scrolled": true
   },
   "outputs": [
    {
     "name": "stdout",
     "output_type": "stream",
     "text": [
      "CPU times: user 925 ms, sys: 0 ns, total: 925 ms\n",
      "Wall time: 927 ms\n"
     ]
    }
   ],
   "source": [
    "%time df_dow=clean_data(df_20000,'dow').T"
   ]
  },
  {
   "cell_type": "code",
   "execution_count": 10,
   "metadata": {},
   "outputs": [],
   "source": [
    "#Renaming Day of week columns to avoid confusion with time of day columns (both are integers)\n",
    "df_dow.rename(columns={'1':'1st dow','2':'2nd dow','3':'3rd dow','4':'4th dow','5':'5th dow','6':'6th dow','7':'7th dow',},inplace=True)"
   ]
  },
  {
   "cell_type": "code",
   "execution_count": 11,
   "metadata": {},
   "outputs": [
    {
     "name": "stdout",
     "output_type": "stream",
     "text": [
      "CPU times: user 1.04 s, sys: 4.04 ms, total: 1.05 s\n",
      "Wall time: 1.05 s\n"
     ]
    }
   ],
   "source": [
    "%time df_tod=clean_data(df_20000,'tod').T"
   ]
  },
  {
   "cell_type": "code",
   "execution_count": 20,
   "metadata": {},
   "outputs": [
    {
     "name": "stdout",
     "output_type": "stream",
     "text": [
      "CPU times: user 15.1 s, sys: 688 ms, total: 15.7 s\n",
      "Wall time: 15.6 s\n"
     ]
    }
   ],
   "source": [
    "%time df_titles=clean_data(df_20000,'titles').T"
   ]
  },
  {
   "cell_type": "code",
   "execution_count": 21,
   "metadata": {},
   "outputs": [
    {
     "data": {
      "text/plain": [
       "'59'"
      ]
     },
     "execution_count": 21,
     "metadata": {},
     "output_type": "execute_result"
    }
   ],
   "source": [
    "df_titles.loc['train-121673','Ishq']"
   ]
  },
  {
   "cell_type": "code",
   "execution_count": 22,
   "metadata": {},
   "outputs": [
    {
     "data": {
      "text/html": [
       "<div>\n",
       "<style scoped>\n",
       "    .dataframe tbody tr th:only-of-type {\n",
       "        vertical-align: middle;\n",
       "    }\n",
       "\n",
       "    .dataframe tbody tr th {\n",
       "        vertical-align: top;\n",
       "    }\n",
       "\n",
       "    .dataframe thead th {\n",
       "        text-align: right;\n",
       "    }\n",
       "</style>\n",
       "<table border=\"1\" class=\"dataframe\">\n",
       "  <thead>\n",
       "    <tr style=\"text-align: right;\">\n",
       "      <th></th>\n",
       "      <th>train-121672</th>\n",
       "      <th>train-121673</th>\n",
       "      <th>train-121670</th>\n",
       "      <th>train-121671</th>\n",
       "      <th>train-121676</th>\n",
       "      <th>train-121677</th>\n",
       "      <th>train-121674</th>\n",
       "      <th>train-121675</th>\n",
       "      <th>train-121678</th>\n",
       "      <th>train-121679</th>\n",
       "      <th>...</th>\n",
       "      <th>train-126321</th>\n",
       "      <th>train-126320</th>\n",
       "      <th>train-126323</th>\n",
       "      <th>train-126322</th>\n",
       "      <th>train-126325</th>\n",
       "      <th>train-126324</th>\n",
       "      <th>train-126327</th>\n",
       "      <th>train-126326</th>\n",
       "      <th>train-126329</th>\n",
       "      <th>train-126328</th>\n",
       "    </tr>\n",
       "  </thead>\n",
       "  <tbody>\n",
       "    <tr>\n",
       "      <th>cities</th>\n",
       "      <td>delhi:3492,mumbai:64</td>\n",
       "      <td>ahmedabad:56666,mumbai:26989</td>\n",
       "      <td>navi mumbai:29400</td>\n",
       "      <td>chennai:77,navi mumbai:4005,mumbai:0</td>\n",
       "      <td>bangalore:5135,krishnarajapura:529,hosur:2864</td>\n",
       "      <td>bangalore:5</td>\n",
       "      <td>gurgaon:12635,delhi:13142,nagari:3885</td>\n",
       "      <td>bangalore:373,chennai:6205,mumbai:77</td>\n",
       "      <td>gurgaon:1124,delhi:9492,mumbai:19504</td>\n",
       "      <td>rawalpindi:976,lahore:104</td>\n",
       "      <td>...</td>\n",
       "      <td>bangalore:1120</td>\n",
       "      <td>gurgaon:31707</td>\n",
       "      <td>mumbai:31082</td>\n",
       "      <td>delhi:1620,navi mumbai:8848</td>\n",
       "      <td>mumbai:14760</td>\n",
       "      <td>khanna:2295,mumbai:1548</td>\n",
       "      <td>lisboa:3756,porto:3198</td>\n",
       "      <td>kolkata:25436</td>\n",
       "      <td>chennai:7999,delhi:8945,ahmedabad:33811</td>\n",
       "      <td>navi mumbai:49286</td>\n",
       "    </tr>\n",
       "    <tr>\n",
       "      <th>dow</th>\n",
       "      <td>5:482,4:3008,7:64</td>\n",
       "      <td>1:3257,3:9162,2:12893,5:9237,4:8503,7:25094,6:...</td>\n",
       "      <td>1:40,3:2700,2:4659,5:7338,4:6641,7:2218,6:5800</td>\n",
       "      <td>1:77,2:3883,5:122</td>\n",
       "      <td>1:6150,3:2378</td>\n",
       "      <td>2:5</td>\n",
       "      <td>1:15909,3:2465,2:5580,4:293,7:1283,6:4131</td>\n",
       "      <td>3:5481,4:724,7:373,6:77</td>\n",
       "      <td>1:6965,3:21,2:6183,5:1434,4:6995,7:4599,6:3923</td>\n",
       "      <td>1:1043,7:37</td>\n",
       "      <td>...</td>\n",
       "      <td>5:50,7:1069</td>\n",
       "      <td>1:6095,3:5684,2:2943,5:6635,4:2750,7:2274,6:5316</td>\n",
       "      <td>1:6255,3:10275,2:6019,4:197,7:6901,6:1435</td>\n",
       "      <td>1:229,5:2196,7:8022,6:20</td>\n",
       "      <td>1:1333,3:147,2:249,5:304,4:7825,7:4900</td>\n",
       "      <td>1:1108,5:40,4:220,7:2472</td>\n",
       "      <td>1:948,5:2317,7:3688</td>\n",
       "      <td>1:2562,3:3153,2:5009,5:3875,4:4274,7:3284,6:3278</td>\n",
       "      <td>1:11880,3:7673,2:17472,5:2759,4:5122,7:4836,6:...</td>\n",
       "      <td>1:11425,3:7989,2:6421,5:4460,4:4157,7:7896,6:6928</td>\n",
       "    </tr>\n",
       "    <tr>\n",
       "      <th>genres</th>\n",
       "      <td>Drama:6,Cricket:3469,Wildlife:79</td>\n",
       "      <td>Drama:48949,Family:9927,Crime:1901,Romance:165...</td>\n",
       "      <td>Cricket:5715,Family:2777,Drama:20873,LiveTV:4,...</td>\n",
       "      <td>Romance:77,Drama:122,Cricket:3883</td>\n",
       "      <td>TalkShow:8529</td>\n",
       "      <td>TalkShow:5</td>\n",
       "      <td>Cricket:0,Wildlife:21,Crime:29591,Drama:10,Liv...</td>\n",
       "      <td>Romance:724,Cricket:5854,Reality:77</td>\n",
       "      <td>Drama:10090,Cricket:1124,Comedy:18907</td>\n",
       "      <td>Family:1080</td>\n",
       "      <td>...</td>\n",
       "      <td>Drama:50,Action:582,Comedy:487</td>\n",
       "      <td>Cricket:13504,Family:17267,Reality:151,Romance...</td>\n",
       "      <td>Drama:31082</td>\n",
       "      <td>Cricket:450,Kids:6,TalkShow:20,Wildlife:40,Rom...</td>\n",
       "      <td>Cricket:14345,Badminton:97,Reality:69,Crime:249</td>\n",
       "      <td>Cricket:3787,Reality:57</td>\n",
       "      <td>Cricket:5060,Awards:21,Crime:1872</td>\n",
       "      <td>Drama:25428,Family:7</td>\n",
       "      <td>Drama:50749,Romance:9</td>\n",
       "      <td>Cricket:17417,Reality:14947,Drama:14565,LiveTV...</td>\n",
       "    </tr>\n",
       "    <tr>\n",
       "      <th>segment</th>\n",
       "      <td>neg</td>\n",
       "      <td>neg</td>\n",
       "      <td>neg</td>\n",
       "      <td>neg</td>\n",
       "      <td>pos</td>\n",
       "      <td>neg</td>\n",
       "      <td>neg</td>\n",
       "      <td>neg</td>\n",
       "      <td>neg</td>\n",
       "      <td>neg</td>\n",
       "      <td>...</td>\n",
       "      <td>neg</td>\n",
       "      <td>neg</td>\n",
       "      <td>neg</td>\n",
       "      <td>neg</td>\n",
       "      <td>neg</td>\n",
       "      <td>neg</td>\n",
       "      <td>neg</td>\n",
       "      <td>neg</td>\n",
       "      <td>neg</td>\n",
       "      <td>neg</td>\n",
       "    </tr>\n",
       "    <tr>\n",
       "      <th>titles</th>\n",
       "      <td>Wild Sex:79,Vintage Dhoni Comes Good with 134:...</td>\n",
       "      <td>Naamkarann:369,Ishq:59,Pardes Mein Hai Mera Di...</td>\n",
       "      <td>India vs Australia 1st Test Hindi:83,India vs ...</td>\n",
       "      <td>Rangoon:77,India A vs England XI:3883,Kaabil:122</td>\n",
       "      <td>Koffee With Karan:8529</td>\n",
       "      <td>Neeya Naana:5</td>\n",
       "      <td>Yeh Rishta Kya Kehlata Hai:10,Life Ok:4,Savdha...</td>\n",
       "      <td>India vs England 2nd T20I English:373,India vs...</td>\n",
       "      <td>Samson's Sparkling 102 vs RPS:10,Bheja Fry 2:4...</td>\n",
       "      <td>Saath Nibhaana Saathiya:1080</td>\n",
       "      <td>...</td>\n",
       "      <td>Dishoom:574,Kaabil:50,Housefull 3:487,Force:8</td>\n",
       "      <td>Aus 1st Innings: Fall of Wickets:359,Day 4: In...</td>\n",
       "      <td>P_O_W_ Bandi Yuddh Ke:31082</td>\n",
       "      <td>Local Boy Jadhav Shines with 120:229,Movies OK...</td>\n",
       "      <td>Stokes's 38 Goes in Vain:22,Yuvraj: The Scorin...</td>\n",
       "      <td>Local Boy Jadhav Shines with 120:134,India Fin...</td>\n",
       "      <td>Savdhaan India:1872,Watch: England Fall of Wic...</td>\n",
       "      <td>Potol Kumar Gaanwala:1,Kusum Dola:25426,Mem Bo...</td>\n",
       "      <td>Nadaan Parinde:0,Phillauri:9,Yeh Rishta Kya Ke...</td>\n",
       "      <td>India vs Australia 2nd Test English:3222,India...</td>\n",
       "    </tr>\n",
       "  </tbody>\n",
       "</table>\n",
       "<p>5 rows × 200000 columns</p>\n",
       "</div>"
      ],
      "text/plain": [
       "                                              train-121672  \\\n",
       "cities                                delhi:3492,mumbai:64   \n",
       "dow                                      5:482,4:3008,7:64   \n",
       "genres                    Drama:6,Cricket:3469,Wildlife:79   \n",
       "segment                                                neg   \n",
       "titles   Wild Sex:79,Vintage Dhoni Comes Good with 134:...   \n",
       "\n",
       "                                              train-121673  \\\n",
       "cities                        ahmedabad:56666,mumbai:26989   \n",
       "dow      1:3257,3:9162,2:12893,5:9237,4:8503,7:25094,6:...   \n",
       "genres   Drama:48949,Family:9927,Crime:1901,Romance:165...   \n",
       "segment                                                neg   \n",
       "titles   Naamkarann:369,Ishq:59,Pardes Mein Hai Mera Di...   \n",
       "\n",
       "                                              train-121670  \\\n",
       "cities                                   navi mumbai:29400   \n",
       "dow         1:40,3:2700,2:4659,5:7338,4:6641,7:2218,6:5800   \n",
       "genres   Cricket:5715,Family:2777,Drama:20873,LiveTV:4,...   \n",
       "segment                                                neg   \n",
       "titles   India vs Australia 1st Test Hindi:83,India vs ...   \n",
       "\n",
       "                                             train-121671  \\\n",
       "cities               chennai:77,navi mumbai:4005,mumbai:0   \n",
       "dow                                     1:77,2:3883,5:122   \n",
       "genres                  Romance:77,Drama:122,Cricket:3883   \n",
       "segment                                               neg   \n",
       "titles   Rangoon:77,India A vs England XI:3883,Kaabil:122   \n",
       "\n",
       "                                          train-121676   train-121677  \\\n",
       "cities   bangalore:5135,krishnarajapura:529,hosur:2864    bangalore:5   \n",
       "dow                                      1:6150,3:2378            2:5   \n",
       "genres                                   TalkShow:8529     TalkShow:5   \n",
       "segment                                            pos            neg   \n",
       "titles                          Koffee With Karan:8529  Neeya Naana:5   \n",
       "\n",
       "                                              train-121674  \\\n",
       "cities               gurgaon:12635,delhi:13142,nagari:3885   \n",
       "dow              1:15909,3:2465,2:5580,4:293,7:1283,6:4131   \n",
       "genres   Cricket:0,Wildlife:21,Crime:29591,Drama:10,Liv...   \n",
       "segment                                                neg   \n",
       "titles   Yeh Rishta Kya Kehlata Hai:10,Life Ok:4,Savdha...   \n",
       "\n",
       "                                              train-121675  \\\n",
       "cities                bangalore:373,chennai:6205,mumbai:77   \n",
       "dow                                3:5481,4:724,7:373,6:77   \n",
       "genres                 Romance:724,Cricket:5854,Reality:77   \n",
       "segment                                                neg   \n",
       "titles   India vs England 2nd T20I English:373,India vs...   \n",
       "\n",
       "                                              train-121678  \\\n",
       "cities                gurgaon:1124,delhi:9492,mumbai:19504   \n",
       "dow         1:6965,3:21,2:6183,5:1434,4:6995,7:4599,6:3923   \n",
       "genres               Drama:10090,Cricket:1124,Comedy:18907   \n",
       "segment                                                neg   \n",
       "titles   Samson's Sparkling 102 vs RPS:10,Bheja Fry 2:4...   \n",
       "\n",
       "                         train-121679  \\\n",
       "cities      rawalpindi:976,lahore:104   \n",
       "dow                       1:1043,7:37   \n",
       "genres                    Family:1080   \n",
       "segment                           neg   \n",
       "titles   Saath Nibhaana Saathiya:1080   \n",
       "\n",
       "                               ...                          \\\n",
       "cities                         ...                           \n",
       "dow                            ...                           \n",
       "genres                         ...                           \n",
       "segment                        ...                           \n",
       "titles                         ...                           \n",
       "\n",
       "                                          train-126321  \\\n",
       "cities                                  bangalore:1120   \n",
       "dow                                        5:50,7:1069   \n",
       "genres                  Drama:50,Action:582,Comedy:487   \n",
       "segment                                            neg   \n",
       "titles   Dishoom:574,Kaabil:50,Housefull 3:487,Force:8   \n",
       "\n",
       "                                              train-126320  \\\n",
       "cities                                       gurgaon:31707   \n",
       "dow       1:6095,3:5684,2:2943,5:6635,4:2750,7:2274,6:5316   \n",
       "genres   Cricket:13504,Family:17267,Reality:151,Romance...   \n",
       "segment                                                neg   \n",
       "titles   Aus 1st Innings: Fall of Wickets:359,Day 4: In...   \n",
       "\n",
       "                                      train-126323  \\\n",
       "cities                                mumbai:31082   \n",
       "dow      1:6255,3:10275,2:6019,4:197,7:6901,6:1435   \n",
       "genres                                 Drama:31082   \n",
       "segment                                        neg   \n",
       "titles                 P_O_W_ Bandi Yuddh Ke:31082   \n",
       "\n",
       "                                              train-126322  \\\n",
       "cities                         delhi:1620,navi mumbai:8848   \n",
       "dow                               1:229,5:2196,7:8022,6:20   \n",
       "genres   Cricket:450,Kids:6,TalkShow:20,Wildlife:40,Rom...   \n",
       "segment                                                neg   \n",
       "titles   Local Boy Jadhav Shines with 120:229,Movies OK...   \n",
       "\n",
       "                                              train-126325  \\\n",
       "cities                                        mumbai:14760   \n",
       "dow                 1:1333,3:147,2:249,5:304,4:7825,7:4900   \n",
       "genres     Cricket:14345,Badminton:97,Reality:69,Crime:249   \n",
       "segment                                                neg   \n",
       "titles   Stokes's 38 Goes in Vain:22,Yuvraj: The Scorin...   \n",
       "\n",
       "                                              train-126324  \\\n",
       "cities                             khanna:2295,mumbai:1548   \n",
       "dow                               1:1108,5:40,4:220,7:2472   \n",
       "genres                             Cricket:3787,Reality:57   \n",
       "segment                                                neg   \n",
       "titles   Local Boy Jadhav Shines with 120:134,India Fin...   \n",
       "\n",
       "                                              train-126327  \\\n",
       "cities                              lisboa:3756,porto:3198   \n",
       "dow                                    1:948,5:2317,7:3688   \n",
       "genres                   Cricket:5060,Awards:21,Crime:1872   \n",
       "segment                                                neg   \n",
       "titles   Savdhaan India:1872,Watch: England Fall of Wic...   \n",
       "\n",
       "                                              train-126326  \\\n",
       "cities                                       kolkata:25436   \n",
       "dow       1:2562,3:3153,2:5009,5:3875,4:4274,7:3284,6:3278   \n",
       "genres                                Drama:25428,Family:7   \n",
       "segment                                                neg   \n",
       "titles   Potol Kumar Gaanwala:1,Kusum Dola:25426,Mem Bo...   \n",
       "\n",
       "                                              train-126329  \\\n",
       "cities             chennai:7999,delhi:8945,ahmedabad:33811   \n",
       "dow      1:11880,3:7673,2:17472,5:2759,4:5122,7:4836,6:...   \n",
       "genres                               Drama:50749,Romance:9   \n",
       "segment                                                neg   \n",
       "titles   Nadaan Parinde:0,Phillauri:9,Yeh Rishta Kya Ke...   \n",
       "\n",
       "                                              train-126328  \n",
       "cities                                   navi mumbai:49286  \n",
       "dow      1:11425,3:7989,2:6421,5:4460,4:4157,7:7896,6:6928  \n",
       "genres   Cricket:17417,Reality:14947,Drama:14565,LiveTV...  \n",
       "segment                                                neg  \n",
       "titles   India vs Australia 2nd Test English:3222,India...  \n",
       "\n",
       "[5 rows x 200000 columns]"
      ]
     },
     "execution_count": 22,
     "metadata": {},
     "output_type": "execute_result"
    }
   ],
   "source": [
    "df.head(5)"
   ]
  },
  {
   "cell_type": "code",
   "execution_count": 23,
   "metadata": {},
   "outputs": [
    {
     "data": {
      "text/plain": [
       "(20000, 6857)"
      ]
     },
     "execution_count": 23,
     "metadata": {},
     "output_type": "execute_result"
    }
   ],
   "source": [
    "df_titles.shape"
   ]
  },
  {
   "cell_type": "code",
   "execution_count": 24,
   "metadata": {},
   "outputs": [
    {
     "data": {
      "text/plain": [
       "Index(['', ' AB TO Z every shot in the book!', ' Australia vs India 1st Test',\n",
       "       ' Bhuvi's 3-44 Seals RR's Fate ', ' Big Score was Around the Corner',\n",
       "       ' Big score was around the corner', ' Billings Roy Punish Pandya',\n",
       "       ' Day 2', ' England vs Australia 4th ODI',\n",
       "       ' Fan Interrupts Play to Greet Dhoni',\n",
       "       ...\n",
       "       'Zindagi Abhi Baki Hai Mere Ghost', 'Zindagi Na Milegi Dobara',\n",
       "       'Zootopia', 'Zulfiqar ', 'Zulmi', 'choker tara tui', 'match_highlights',\n",
       "       'match_replay', 'siya ke ram', 'www_Bhaya_com'],\n",
       "      dtype='object', length=6857)"
      ]
     },
     "execution_count": 24,
     "metadata": {},
     "output_type": "execute_result"
    }
   ],
   "source": [
    "df_titles.columns"
   ]
  },
  {
   "cell_type": "code",
   "execution_count": 26,
   "metadata": {},
   "outputs": [
    {
     "name": "stdout",
     "output_type": "stream",
     "text": [
      "CPU times: user 5.56 s, sys: 473 ms, total: 6.03 s\n",
      "Wall time: 6.02 s\n"
     ]
    }
   ],
   "source": [
    "%time df_result = pd.concat([df_cities, df_dow, df_genres, df_titles, df_tod], axis=1,)"
   ]
  },
  {
   "cell_type": "code",
   "execution_count": 27,
   "metadata": {},
   "outputs": [
    {
     "data": {
      "text/plain": [
       "(20000, 7340)"
      ]
     },
     "execution_count": 27,
     "metadata": {},
     "output_type": "execute_result"
    }
   ],
   "source": [
    "df_result.shape"
   ]
  },
  {
   "cell_type": "code",
   "execution_count": 28,
   "metadata": {},
   "outputs": [
    {
     "data": {
      "text/plain": [
       "Index(['Unknown', 'abidjan', 'absecon', 'ad dawhah', 'agra', 'ahmadnagar',\n",
       "       'ahmedabad', 'ajitgarh', 'al kuwayt', 'al qahirah',\n",
       "       ...\n",
       "       '21', '22', '23', '3', '4', '5', '6', '7', '8', '9'],\n",
       "      dtype='object', length=7340)"
      ]
     },
     "execution_count": 28,
     "metadata": {},
     "output_type": "execute_result"
    }
   ],
   "source": [
    "df_result.columns"
   ]
  },
  {
   "cell_type": "code",
   "execution_count": 29,
   "metadata": {},
   "outputs": [
    {
     "data": {
      "text/html": [
       "<div>\n",
       "<style scoped>\n",
       "    .dataframe tbody tr th:only-of-type {\n",
       "        vertical-align: middle;\n",
       "    }\n",
       "\n",
       "    .dataframe tbody tr th {\n",
       "        vertical-align: top;\n",
       "    }\n",
       "\n",
       "    .dataframe thead th {\n",
       "        text-align: right;\n",
       "    }\n",
       "</style>\n",
       "<table border=\"1\" class=\"dataframe\">\n",
       "  <thead>\n",
       "    <tr style=\"text-align: right;\">\n",
       "      <th></th>\n",
       "      <th>Unknown</th>\n",
       "      <th>abidjan</th>\n",
       "      <th>absecon</th>\n",
       "      <th>ad dawhah</th>\n",
       "      <th>agra</th>\n",
       "      <th>ahmadnagar</th>\n",
       "      <th>ahmedabad</th>\n",
       "      <th>ajitgarh</th>\n",
       "      <th>al kuwayt</th>\n",
       "      <th>al qahirah</th>\n",
       "      <th>...</th>\n",
       "      <th>21</th>\n",
       "      <th>22</th>\n",
       "      <th>23</th>\n",
       "      <th>3</th>\n",
       "      <th>4</th>\n",
       "      <th>5</th>\n",
       "      <th>6</th>\n",
       "      <th>7</th>\n",
       "      <th>8</th>\n",
       "      <th>9</th>\n",
       "    </tr>\n",
       "  </thead>\n",
       "  <tbody>\n",
       "    <tr>\n",
       "      <th>train-121672</th>\n",
       "      <td>NaN</td>\n",
       "      <td>NaN</td>\n",
       "      <td>NaN</td>\n",
       "      <td>NaN</td>\n",
       "      <td>NaN</td>\n",
       "      <td>NaN</td>\n",
       "      <td>NaN</td>\n",
       "      <td>NaN</td>\n",
       "      <td>NaN</td>\n",
       "      <td>NaN</td>\n",
       "      <td>...</td>\n",
       "      <td>1862</td>\n",
       "      <td>NaN</td>\n",
       "      <td>NaN</td>\n",
       "      <td>NaN</td>\n",
       "      <td>NaN</td>\n",
       "      <td>NaN</td>\n",
       "      <td>NaN</td>\n",
       "      <td>NaN</td>\n",
       "      <td>NaN</td>\n",
       "      <td>NaN</td>\n",
       "    </tr>\n",
       "    <tr>\n",
       "      <th>train-121673</th>\n",
       "      <td>NaN</td>\n",
       "      <td>NaN</td>\n",
       "      <td>NaN</td>\n",
       "      <td>NaN</td>\n",
       "      <td>NaN</td>\n",
       "      <td>NaN</td>\n",
       "      <td>56666</td>\n",
       "      <td>NaN</td>\n",
       "      <td>NaN</td>\n",
       "      <td>NaN</td>\n",
       "      <td>...</td>\n",
       "      <td>9360</td>\n",
       "      <td>304</td>\n",
       "      <td>2988</td>\n",
       "      <td>NaN</td>\n",
       "      <td>NaN</td>\n",
       "      <td>NaN</td>\n",
       "      <td>NaN</td>\n",
       "      <td>NaN</td>\n",
       "      <td>NaN</td>\n",
       "      <td>2005</td>\n",
       "    </tr>\n",
       "    <tr>\n",
       "      <th>train-121670</th>\n",
       "      <td>NaN</td>\n",
       "      <td>NaN</td>\n",
       "      <td>NaN</td>\n",
       "      <td>NaN</td>\n",
       "      <td>NaN</td>\n",
       "      <td>NaN</td>\n",
       "      <td>NaN</td>\n",
       "      <td>NaN</td>\n",
       "      <td>NaN</td>\n",
       "      <td>NaN</td>\n",
       "      <td>...</td>\n",
       "      <td>3430</td>\n",
       "      <td>2219</td>\n",
       "      <td>2111</td>\n",
       "      <td>NaN</td>\n",
       "      <td>NaN</td>\n",
       "      <td>NaN</td>\n",
       "      <td>1874</td>\n",
       "      <td>504</td>\n",
       "      <td>201</td>\n",
       "      <td>4388</td>\n",
       "    </tr>\n",
       "    <tr>\n",
       "      <th>train-121671</th>\n",
       "      <td>NaN</td>\n",
       "      <td>NaN</td>\n",
       "      <td>NaN</td>\n",
       "      <td>NaN</td>\n",
       "      <td>NaN</td>\n",
       "      <td>NaN</td>\n",
       "      <td>NaN</td>\n",
       "      <td>NaN</td>\n",
       "      <td>NaN</td>\n",
       "      <td>NaN</td>\n",
       "      <td>...</td>\n",
       "      <td>NaN</td>\n",
       "      <td>NaN</td>\n",
       "      <td>NaN</td>\n",
       "      <td>NaN</td>\n",
       "      <td>NaN</td>\n",
       "      <td>NaN</td>\n",
       "      <td>NaN</td>\n",
       "      <td>NaN</td>\n",
       "      <td>NaN</td>\n",
       "      <td>NaN</td>\n",
       "    </tr>\n",
       "    <tr>\n",
       "      <th>train-121676</th>\n",
       "      <td>NaN</td>\n",
       "      <td>NaN</td>\n",
       "      <td>NaN</td>\n",
       "      <td>NaN</td>\n",
       "      <td>NaN</td>\n",
       "      <td>NaN</td>\n",
       "      <td>NaN</td>\n",
       "      <td>NaN</td>\n",
       "      <td>NaN</td>\n",
       "      <td>NaN</td>\n",
       "      <td>...</td>\n",
       "      <td>1257</td>\n",
       "      <td>4930</td>\n",
       "      <td>538</td>\n",
       "      <td>NaN</td>\n",
       "      <td>NaN</td>\n",
       "      <td>NaN</td>\n",
       "      <td>NaN</td>\n",
       "      <td>NaN</td>\n",
       "      <td>NaN</td>\n",
       "      <td>NaN</td>\n",
       "    </tr>\n",
       "  </tbody>\n",
       "</table>\n",
       "<p>5 rows × 7340 columns</p>\n",
       "</div>"
      ],
      "text/plain": [
       "             Unknown abidjan absecon ad dawhah agra ahmadnagar ahmedabad  \\\n",
       "train-121672     NaN     NaN     NaN       NaN  NaN        NaN       NaN   \n",
       "train-121673     NaN     NaN     NaN       NaN  NaN        NaN     56666   \n",
       "train-121670     NaN     NaN     NaN       NaN  NaN        NaN       NaN   \n",
       "train-121671     NaN     NaN     NaN       NaN  NaN        NaN       NaN   \n",
       "train-121676     NaN     NaN     NaN       NaN  NaN        NaN       NaN   \n",
       "\n",
       "             ajitgarh al kuwayt al qahirah  ...     21    22    23    3    4  \\\n",
       "train-121672      NaN       NaN        NaN  ...   1862   NaN   NaN  NaN  NaN   \n",
       "train-121673      NaN       NaN        NaN  ...   9360   304  2988  NaN  NaN   \n",
       "train-121670      NaN       NaN        NaN  ...   3430  2219  2111  NaN  NaN   \n",
       "train-121671      NaN       NaN        NaN  ...    NaN   NaN   NaN  NaN  NaN   \n",
       "train-121676      NaN       NaN        NaN  ...   1257  4930   538  NaN  NaN   \n",
       "\n",
       "                5     6    7    8     9  \n",
       "train-121672  NaN   NaN  NaN  NaN   NaN  \n",
       "train-121673  NaN   NaN  NaN  NaN  2005  \n",
       "train-121670  NaN  1874  504  201  4388  \n",
       "train-121671  NaN   NaN  NaN  NaN   NaN  \n",
       "train-121676  NaN   NaN  NaN  NaN   NaN  \n",
       "\n",
       "[5 rows x 7340 columns]"
      ]
     },
     "execution_count": 29,
     "metadata": {},
     "output_type": "execute_result"
    }
   ],
   "source": [
    "df_result.head()"
   ]
  },
  {
   "cell_type": "code",
   "execution_count": 30,
   "metadata": {},
   "outputs": [
    {
     "name": "stdout",
     "output_type": "stream",
     "text": [
      "CPU times: user 18.4 s, sys: 150 ms, total: 18.5 s\n",
      "Wall time: 19.5 s\n"
     ]
    }
   ],
   "source": [
    "%time df_result.to_csv('Hotstar_CleanDATA_20000Rows_Merged.csv')"
   ]
  },
  {
   "cell_type": "code",
   "execution_count": null,
   "metadata": {},
   "outputs": [],
   "source": []
  }
 ],
 "metadata": {
  "kernelspec": {
   "display_name": "Python 3",
   "language": "python",
   "name": "python3"
  },
  "language_info": {
   "codemirror_mode": {
    "name": "ipython",
    "version": 3
   },
   "file_extension": ".py",
   "mimetype": "text/x-python",
   "name": "python",
   "nbconvert_exporter": "python",
   "pygments_lexer": "ipython3",
   "version": "3.6.5"
  }
 },
 "nbformat": 4,
 "nbformat_minor": 2
}
